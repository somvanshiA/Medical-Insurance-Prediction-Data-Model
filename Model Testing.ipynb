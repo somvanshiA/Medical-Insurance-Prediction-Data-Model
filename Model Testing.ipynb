{
 "cells": [
  {
   "cell_type": "markdown",
   "id": "0e7ea75b-9c8d-43e2-9437-56770945cb6b",
   "metadata": {},
   "source": [
    "# MOdel Testing"
   ]
  },
  {
   "cell_type": "code",
   "execution_count": 5,
   "id": "77b257f0-e007-433d-b22f-f6f2b8116b52",
   "metadata": {},
   "outputs": [],
   "source": [
    "import pickle\n",
    "import  json\n",
    "import numpy as np\n",
    "import pandas as pd\n"
   ]
  },
  {
   "cell_type": "code",
   "execution_count": 7,
   "id": "6c5e86e5-98e5-4e67-8f53-b59fc9117a09",
   "metadata": {},
   "outputs": [
    {
     "ename": "FileNotFoundError",
     "evalue": "[Errno 2] No such file or directory: 'linear_reg_model.pkl'",
     "output_type": "error",
     "traceback": [
      "\u001b[1;31m---------------------------------------------------------------------------\u001b[0m",
      "\u001b[1;31mFileNotFoundError\u001b[0m                         Traceback (most recent call last)",
      "Cell \u001b[1;32mIn[7], line 1\u001b[0m\n\u001b[1;32m----> 1\u001b[0m \u001b[38;5;28;01mwith\u001b[39;00m \u001b[38;5;28mopen\u001b[39m(\u001b[38;5;124m'\u001b[39m\u001b[38;5;124mlinear_reg_model.pkl\u001b[39m\u001b[38;5;124m'\u001b[39m,\u001b[38;5;124m'\u001b[39m\u001b[38;5;124mrb\u001b[39m\u001b[38;5;124m'\u001b[39m) \u001b[38;5;28;01mas\u001b[39;00m f:\n\u001b[0;32m      2\u001b[0m     linear_model \u001b[38;5;241m=\u001b[39m pickle\u001b[38;5;241m.\u001b[39mload(f)\n\u001b[0;32m      5\u001b[0m linear_model\n",
      "File \u001b[1;32m~\\anaconda3\\Lib\\site-packages\\IPython\\core\\interactiveshell.py:324\u001b[0m, in \u001b[0;36m_modified_open\u001b[1;34m(file, *args, **kwargs)\u001b[0m\n\u001b[0;32m    317\u001b[0m \u001b[38;5;28;01mif\u001b[39;00m file \u001b[38;5;129;01min\u001b[39;00m {\u001b[38;5;241m0\u001b[39m, \u001b[38;5;241m1\u001b[39m, \u001b[38;5;241m2\u001b[39m}:\n\u001b[0;32m    318\u001b[0m     \u001b[38;5;28;01mraise\u001b[39;00m \u001b[38;5;167;01mValueError\u001b[39;00m(\n\u001b[0;32m    319\u001b[0m         \u001b[38;5;124mf\u001b[39m\u001b[38;5;124m\"\u001b[39m\u001b[38;5;124mIPython won\u001b[39m\u001b[38;5;124m'\u001b[39m\u001b[38;5;124mt let you open fd=\u001b[39m\u001b[38;5;132;01m{\u001b[39;00mfile\u001b[38;5;132;01m}\u001b[39;00m\u001b[38;5;124m by default \u001b[39m\u001b[38;5;124m\"\u001b[39m\n\u001b[0;32m    320\u001b[0m         \u001b[38;5;124m\"\u001b[39m\u001b[38;5;124mas it is likely to crash IPython. If you know what you are doing, \u001b[39m\u001b[38;5;124m\"\u001b[39m\n\u001b[0;32m    321\u001b[0m         \u001b[38;5;124m\"\u001b[39m\u001b[38;5;124myou can use builtins\u001b[39m\u001b[38;5;124m'\u001b[39m\u001b[38;5;124m open.\u001b[39m\u001b[38;5;124m\"\u001b[39m\n\u001b[0;32m    322\u001b[0m     )\n\u001b[1;32m--> 324\u001b[0m \u001b[38;5;28;01mreturn\u001b[39;00m io_open(file, \u001b[38;5;241m*\u001b[39margs, \u001b[38;5;241m*\u001b[39m\u001b[38;5;241m*\u001b[39mkwargs)\n",
      "\u001b[1;31mFileNotFoundError\u001b[0m: [Errno 2] No such file or directory: 'linear_reg_model.pkl'"
     ]
    }
   ],
   "source": [
    "with open('linear_reg_model.pkl','rb') as f:\n",
    "    linear_model = pickle.load(f)\n",
    "\n",
    "\n",
    "linear_model"
   ]
  },
  {
   "cell_type": "code",
   "execution_count": 7,
   "id": "0b124243-8f27-4ef5-ab22-5069fdedef11",
   "metadata": {},
   "outputs": [
    {
     "data": {
      "text/plain": [
       "{'gender': {'male': 1, 'female': 0}, 'smoker': {'yes': 1, 'no': 0}}"
      ]
     },
     "execution_count": 7,
     "metadata": {},
     "output_type": "execute_result"
    }
   ],
   "source": [
    "with open(\"column_data.json\",'rb') as f:\n",
    "    column_data  = json.load(f)\n",
    "\n",
    "column_data"
   ]
  },
  {
   "cell_type": "code",
   "execution_count": 9,
   "id": "74345745-2ad4-4c95-bdd4-6f834df7696b",
   "metadata": {},
   "outputs": [
    {
     "data": {
      "text/plain": [
       "array(['age', 'gender', 'bmi', 'children', 'smoker', 'region_northeast',\n",
       "       'region_northwest', 'region_southeast', 'region_southwest'],\n",
       "      dtype=object)"
      ]
     },
     "execution_count": 9,
     "metadata": {},
     "output_type": "execute_result"
    }
   ],
   "source": [
    "column_names = linear_model.feature_names_in_\n",
    "column_names"
   ]
  },
  {
   "cell_type": "code",
   "execution_count": 13,
   "id": "cdf004aa-1dc3-4ffb-a83b-1d2b1eeb7484",
   "metadata": {},
   "outputs": [
    {
     "data": {
      "text/plain": [
       "9"
      ]
     },
     "execution_count": 13,
     "metadata": {},
     "output_type": "execute_result"
    }
   ],
   "source": [
    "len(column_names)"
   ]
  },
  {
   "cell_type": "code",
   "execution_count": 109,
   "id": "f9f92b83-4d31-493d-af98-ec5d5e3a0907",
   "metadata": {},
   "outputs": [
    {
     "data": {
      "text/plain": [
       "9"
      ]
     },
     "execution_count": 109,
     "metadata": {},
     "output_type": "execute_result"
    }
   ],
   "source": [
    "fetaure_count = linear_model.n_features_in_\n",
    "fetaure_count"
   ]
  },
  {
   "cell_type": "markdown",
   "id": "354cc9fb-848b-4ef3-9a81-a7005176324c",
   "metadata": {},
   "source": [
    "# USER"
   ]
  },
  {
   "cell_type": "code",
   "execution_count": 85,
   "id": "59c95423-944d-4bcc-b2bf-00bcdf1d12e2",
   "metadata": {},
   "outputs": [],
   "source": [
    "age = 35\n",
    "gender = 'male'\n",
    "bmi = 26.9\n",
    "children  = 0\n",
    "smoker = 'no'\n",
    "region = 'northeast'"
   ]
  },
  {
   "cell_type": "code",
   "execution_count": 87,
   "id": "9d0561b1-34ff-4f76-9089-a48f40e60edf",
   "metadata": {},
   "outputs": [
    {
     "data": {
      "text/plain": [
       "1"
      ]
     },
     "execution_count": 87,
     "metadata": {},
     "output_type": "execute_result"
    }
   ],
   "source": [
    "gender = column_data['gender'][gender] # 1\n",
    "gender\n"
   ]
  },
  {
   "cell_type": "code",
   "execution_count": 89,
   "id": "981f288d-e7e3-46a2-b4fe-367115ddb060",
   "metadata": {},
   "outputs": [
    {
     "data": {
      "text/plain": [
       "0"
      ]
     },
     "execution_count": 89,
     "metadata": {},
     "output_type": "execute_result"
    }
   ],
   "source": [
    "smoker = column_data['smoker'][smoker] # 0\n",
    "smoker"
   ]
  },
  {
   "cell_type": "code",
   "execution_count": 91,
   "id": "125ddcfb-07dc-4364-acf3-c8a1c6fea421",
   "metadata": {},
   "outputs": [
    {
     "data": {
      "text/plain": [
       "'region_northeast'"
      ]
     },
     "execution_count": 91,
     "metadata": {},
     "output_type": "execute_result"
    }
   ],
   "source": [
    "region = 'region_' + region \n",
    "region"
   ]
  },
  {
   "cell_type": "code",
   "execution_count": 93,
   "id": "89cc722a-f4ae-46ad-89bd-0a8e316fb383",
   "metadata": {},
   "outputs": [
    {
     "data": {
      "text/plain": [
       "array(['age', 'gender', 'bmi', 'children', 'smoker', 'region_northeast',\n",
       "       'region_northwest', 'region_southeast', 'region_southwest'],\n",
       "      dtype=object)"
      ]
     },
     "execution_count": 93,
     "metadata": {},
     "output_type": "execute_result"
    }
   ],
   "source": [
    "column_names"
   ]
  },
  {
   "cell_type": "code",
   "execution_count": 105,
   "id": "dcf232cd-0462-4ef6-af8f-9137c325c78e",
   "metadata": {},
   "outputs": [
    {
     "data": {
      "text/plain": [
       "(array([5], dtype=int64),)"
      ]
     },
     "execution_count": 105,
     "metadata": {},
     "output_type": "execute_result"
    }
   ],
   "source": [
    "np.where(column_names == region)"
   ]
  },
  {
   "cell_type": "code",
   "execution_count": 95,
   "id": "94a35b39-cfab-4730-9869-9a163cd6f04e",
   "metadata": {},
   "outputs": [
    {
     "data": {
      "text/plain": [
       "5"
      ]
     },
     "execution_count": 95,
     "metadata": {},
     "output_type": "execute_result"
    }
   ],
   "source": [
    "region_index = np.where(column_names == region)[0][0]\n",
    "region_index"
   ]
  },
  {
   "cell_type": "code",
   "execution_count": 97,
   "id": "cec87ec4-41dc-4479-b5b1-54a293fa0d37",
   "metadata": {},
   "outputs": [
    {
     "data": {
      "text/plain": [
       "array([0., 0., 0., 0., 0., 0., 0., 0., 0.])"
      ]
     },
     "execution_count": 97,
     "metadata": {},
     "output_type": "execute_result"
    }
   ],
   "source": [
    "test_array = np.zeros(fetaure_count)\n",
    "test_array"
   ]
  },
  {
   "cell_type": "code",
   "execution_count": 99,
   "id": "04cd995c-c304-4a86-88ed-35851c384cae",
   "metadata": {},
   "outputs": [],
   "source": [
    "test_array[0] = age\n",
    "test_array[1] = gender\n",
    "test_array[2] = bmi\n",
    "test_array[3] = children\n",
    "test_array[4] = smoker\n",
    "test_array[region_index] = 1\n"
   ]
  },
  {
   "cell_type": "code",
   "execution_count": 101,
   "id": "43dd5398-e623-4916-a3a0-4a6df88a00b2",
   "metadata": {},
   "outputs": [
    {
     "data": {
      "text/plain": [
       "array([35. ,  1. , 26.9,  0. ,  0. ,  1. ,  0. ,  0. ,  0. ])"
      ]
     },
     "execution_count": 101,
     "metadata": {},
     "output_type": "execute_result"
    }
   ],
   "source": [
    "test_array"
   ]
  },
  {
   "cell_type": "code",
   "execution_count": 103,
   "id": "a79e768e-54d8-4a07-8dd5-4de8ff706320",
   "metadata": {},
   "outputs": [
    {
     "name": "stdout",
     "output_type": "stream",
     "text": [
      "Predicted Medical Insurance Charges are:  6086.9926644568\n"
     ]
    },
    {
     "name": "stderr",
     "output_type": "stream",
     "text": [
      "C:\\Users\\Dell\\anaconda3\\Lib\\site-packages\\sklearn\\base.py:493: UserWarning: X does not have valid feature names, but LinearRegression was fitted with feature names\n",
      "  warnings.warn(\n"
     ]
    }
   ],
   "source": [
    "predicted_Charges = linear_model.predict([test_array])[0]\n",
    "print(\"Predicted Medical Insurance Charges are: \",predicted_Charges)"
   ]
  },
  {
   "cell_type": "code",
   "execution_count": 111,
   "id": "1ad97ca8-6bf2-48c0-95ca-9489da896643",
   "metadata": {},
   "outputs": [],
   "source": [
    "def get_predicted_charges(age,gender,bmi,children,smoker,region):\n",
    "    gender = column_data['gender'][gender]\n",
    "    smoker = column_data['smoker'][smoker]\n",
    "    region = 'region_' + region \n",
    "    region_index = np.where(column_names == region)[0][0]\n",
    "    test_array = np.zeros(fetaure_count)\n",
    "\n",
    "    test_array[0] = age\n",
    "    test_array[1] = gender\n",
    "    test_array[2] = bmi\n",
    "    test_array[3] = children\n",
    "    test_array[4] = smoker\n",
    "    test_array[region_index] = 1\n",
    "\n",
    "    predicted_Charges = linear_model.predict([test_array])[0]\n",
    "\n",
    "    return f\"Predicted Medical Insurance Charges are:{predicted_Charges}\"\n",
    "    "
   ]
  },
  {
   "cell_type": "code",
   "execution_count": 113,
   "id": "a94e00f7-7190-427a-81c3-c4bb38a36abc",
   "metadata": {},
   "outputs": [
    {
     "name": "stderr",
     "output_type": "stream",
     "text": [
      "C:\\Users\\Dell\\anaconda3\\Lib\\site-packages\\sklearn\\base.py:493: UserWarning: X does not have valid feature names, but LinearRegression was fitted with feature names\n",
      "  warnings.warn(\n"
     ]
    },
    {
     "data": {
      "text/plain": [
       "'Predicted Medical Insurance Charges are:27765.215236775748'"
      ]
     },
     "execution_count": 113,
     "metadata": {},
     "output_type": "execute_result"
    }
   ],
   "source": [
    "age = 20\n",
    "gender = 'male'\n",
    "bmi = 26\n",
    "children  = 4\n",
    "smoker = 'yes'\n",
    "region = 'northwest'\n",
    "\n",
    "get_predicted_charges(age,gender,bmi,children,smoker,region)\n"
   ]
  },
  {
   "cell_type": "code",
   "execution_count": 115,
   "id": "0daf5684-a59f-4e89-ad72-9cf13f1703fc",
   "metadata": {},
   "outputs": [
    {
     "name": "stderr",
     "output_type": "stream",
     "text": [
      "C:\\Users\\Dell\\anaconda3\\Lib\\site-packages\\sklearn\\base.py:493: UserWarning: X does not have valid feature names, but LinearRegression was fitted with feature names\n",
      "  warnings.warn(\n"
     ]
    },
    {
     "data": {
      "text/plain": [
       "'Predicted Medical Insurance Charges are:3264.109829592264'"
      ]
     },
     "execution_count": 115,
     "metadata": {},
     "output_type": "execute_result"
    }
   ],
   "source": [
    "age = 20\n",
    "gender = 'female'\n",
    "bmi = 26\n",
    "children  = 4\n",
    "smoker = 'no'\n",
    "region = 'southwest'\n",
    "\n",
    "get_predicted_charges(age,gender,bmi,children,smoker,region)"
   ]
  },
  {
   "cell_type": "code",
   "execution_count": 3,
   "id": "052fabf8-e148-413e-ae96-80be00063f4f",
   "metadata": {},
   "outputs": [
    {
     "data": {
      "text/plain": [
       "0"
      ]
     },
     "execution_count": 3,
     "metadata": {},
     "output_type": "execute_result"
    }
   ],
   "source": [
    "column_list = ['age', 'gender', 'bmi', 'children', 'smoker', 'region_northeast',\n",
    "       'region_northwest', 'region_southeast', 'region_southwest']\n",
    "\n",
    "column_list.index('age')"
   ]
  },
  {
   "cell_type": "code",
   "execution_count": null,
   "id": "3f881da0-7de5-434c-bba9-4f7293767458",
   "metadata": {},
   "outputs": [],
   "source": []
  }
 ],
 "metadata": {
  "kernelspec": {
   "display_name": "Python 3 (ipykernel)",
   "language": "python",
   "name": "python3"
  },
  "language_info": {
   "codemirror_mode": {
    "name": "ipython",
    "version": 3
   },
   "file_extension": ".py",
   "mimetype": "text/x-python",
   "name": "python",
   "nbconvert_exporter": "python",
   "pygments_lexer": "ipython3",
   "version": "3.12.4"
  }
 },
 "nbformat": 4,
 "nbformat_minor": 5
}
